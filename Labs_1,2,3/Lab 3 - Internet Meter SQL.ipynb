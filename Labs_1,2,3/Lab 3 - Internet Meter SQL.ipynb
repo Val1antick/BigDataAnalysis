{
 "cells": [
  {
   "cell_type": "markdown",
   "metadata": {},
   "source": [
    "![Title](Images/cisco.png)"
   ]
  },
  {
   "cell_type": "markdown",
   "metadata": {},
   "source": [
    "# Lab - Internet Meter SQL\n"
   ]
  },
  {
   "cell_type": "markdown",
   "metadata": {},
   "source": [
    "### Objectives\n",
    "\n",
    "<b>\n",
    "* Part 1: Set up your Database\n",
    "* Part 2: Connect to the Database \n",
    "* Part 3: Manipulate the Data with Pandas\n",
    "* Part 4: Join Tables with Pandas\n",
    "</b>"
   ]
  },
  {
   "cell_type": "markdown",
   "metadata": {},
   "source": [
    "### Scenario/Background\n",
    "In this lab you will learn how to connect to a relational database, retrieve and manipulate the data through a Jupyter notebook. The data you are provided contain various measurements for ping, upload and download speed made in different Local Authorities around England. At the moment the data is stored in a csv file, but you will create a database and populate it with the measurement. \n",
    "\n",
    "You will:\n",
    "* Work with a relational database\n",
    "* Set up SQLite\n",
    "* Create a new database\n",
    "* Use csvsql to create a new table and retrieve data directly from a big csv file\n",
    "* Connect to a database with the sqlite3 Python library\n",
    "* Perform basic SQL queries through Python\n",
    "* Explore the interaction between Pandas and an SQL database\n",
    "* Merge two tables"
   ]
  },
  {
   "cell_type": "markdown",
   "metadata": {},
   "source": [
    "### Required Resources\n",
    "* 1 PC with Internet access\n",
    "* Raspberry Pi version 2 or higher\n",
    "* Python libraries: sqlite3, pandas, matplotlib\n",
    "* Additional libraries: csvkit\n",
    "* Datafiles: LA_wifi_speed_UK.csv, LA_population.csv\n",
    "\n",
    "### SQL refresh\n",
    "* Very brief introduction to relational databases (temporary): http://searchsqlserver.techtarget.com/definition/relational-database</li>\n",
    "* More videos on relational databases: https://www.youtube.com/watch?v=jyju2P-7hPA&list=PLAwxTw4SYaPm4R6j_wzVOCV9fJaiQDYx4</li>\n",
    "* Introduction to SQL http://www.w3schools.com/sql/sql_intro.asp</li>"
   ]
  },
  {
   "cell_type": "markdown",
   "metadata": {},
   "source": [
    "## Part 1: Set up your Database"
   ]
  },
  {
   "cell_type": "markdown",
   "metadata": {},
   "source": [
    "In this part, you will use SQLite, an in-process library that implements a self-contained, serverless, zero-configuration, transactional SQL database engine to set up the environment."
   ]
  },
  {
   "cell_type": "markdown",
   "metadata": {},
   "source": [
    "#### Step 1: Set up the working environment.\n",
    "We will need `sqlite3` and `csvkit` to complete this notebook. \n",
    "\n",
    "###### a) Install SQLite.\n",
    "In a Jupyter notebook, it is possible to run the same commands that would be used in the terminal. To do so, start the line with an exclamation mark (```!```)."
   ]
  },
  {
   "cell_type": "code",
   "execution_count": 1,
   "metadata": {},
   "outputs": [
    {
     "name": "stdout",
     "output_type": "stream",
     "text": [
      "3.35.4 2021-04-02 15:20:15 5d4c65779dab868b285519b19e4cf9d451d50c6048f06f653aa701ec212dalt2\n"
     ]
    }
   ],
   "source": [
    "# Code Cell 1\n",
    "!sqlite3 --version"
   ]
  },
  {
   "cell_type": "markdown",
   "metadata": {},
   "source": [
    "After the installation process finishes, create a database:\n",
    "\n",
    "    $sqlite3 <name of your database> \".databases\"\n",
    "\n",
    "*name of the database* is the name you want to give to your database, for example InternetSpeed:\n",
    "\n",
    "    $sqlite3 InternetSpeed.db \".databases\"\n",
    "    \n",
    "This code creates the database in a terminal window. If you are using the terminal, be sure to navigate to the same directory in which this lab resides."
   ]
  },
  {
   "cell_type": "code",
   "execution_count": 2,
   "metadata": {},
   "outputs": [
    {
     "name": "stdout",
     "output_type": "stream",
     "text": [
      "main: C:\\Users\\Val1ant\\Desktop\\labs\\Labs_1,2,3\\InternetSpeed.db r/w\n"
     ]
    }
   ],
   "source": [
    "# Code Cell 2\n",
    "#Create the InternetSpeed database\n",
    "!sqlite3 InternetSpeed.db \".databases\""
   ]
  },
  {
   "cell_type": "markdown",
   "metadata": {},
   "source": [
    "At this point, on your local machine, you have a new, empty database called InternetSpeed.\n",
    "Usually, if you want to create a table, you need to provide a schema specifying the name of the table, the name of the columns, and the type of data that goes in every column (int, str, decimal, etc.).\n",
    "<p>For the purpose of this course, A **synthetic** dataset with wifi speed measurements recorded in 300 locations in the United Kingdom is used for the purpose of this course. The file is structured in a way that each column contains the measurements for a location of one of the three statistics (ping, download, and upload). This means that the table we need has 300\\*3 columns (plus the datetime, and an index column). Writing the schema for such a table by hand is unfeasible. Fortunately, there are ways to overcome this, and one of those is using the **csvkit** package, which contains the function **csvsql** that can be used to create a table and import the data in one command.</p>\n",
    "\n",
    "###### b) Install csvkit.\n",
    "Install csvkit at the terminal:\n",
    "\n",
    "    $pip install csvkit\n",
    "    \n",
    "You can also stay in the notebook environment, as you have done previously, adding the exclamation mark at the beginning of the line.\n",
    "\n",
    "The file used in this part of the lab is called LA_wifi_speed_UK.csv."
   ]
  },
  {
   "cell_type": "code",
   "execution_count": 3,
   "metadata": {},
   "outputs": [
    {
     "name": "stdout",
     "output_type": "stream",
     "text": [
      "Requirement already satisfied: csvkit in c:\\anaconda3\\lib\\site-packages (1.0.5)\n",
      "Requirement already satisfied: agate>=1.6.1 in c:\\anaconda3\\lib\\site-packages (from csvkit) (1.6.1)\n",
      "Requirement already satisfied: agate-sql>=0.5.3 in c:\\anaconda3\\lib\\site-packages (from csvkit) (0.5.6)\n",
      "Requirement already satisfied: agate-dbf>=0.2.0 in c:\\anaconda3\\lib\\site-packages (from csvkit) (0.2.2)\n",
      "Requirement already satisfied: agate-excel>=0.2.2 in c:\\anaconda3\\lib\\site-packages (from csvkit) (0.2.3)\n",
      "Requirement already satisfied: six>=1.6.1 in c:\\anaconda3\\lib\\site-packages (from csvkit) (1.15.0)\n",
      "Requirement already satisfied: isodate>=0.5.4 in c:\\anaconda3\\lib\\site-packages (from agate>=1.6.1->csvkit) (0.6.0)\n",
      "Requirement already satisfied: pytimeparse>=1.1.5 in c:\\anaconda3\\lib\\site-packages (from agate>=1.6.1->csvkit) (1.1.8)\n",
      "Requirement already satisfied: parsedatetime>=2.1 in c:\\anaconda3\\lib\\site-packages (from agate>=1.6.1->csvkit) (2.6)\n",
      "Requirement already satisfied: leather>=0.3.2 in c:\\anaconda3\\lib\\site-packages (from agate>=1.6.1->csvkit) (0.3.3)\n",
      "Requirement already satisfied: python-slugify>=1.2.1 in c:\\anaconda3\\lib\\site-packages (from agate>=1.6.1->csvkit) (5.0.2)\n",
      "Requirement already satisfied: Babel>=2.0 in c:\\anaconda3\\lib\\site-packages (from agate>=1.6.1->csvkit) (2.9.0)\n",
      "Requirement already satisfied: dbfread>=2.0.5 in c:\\anaconda3\\lib\\site-packages (from agate-dbf>=0.2.0->csvkit) (2.0.7)\n",
      "Requirement already satisfied: openpyxl>=2.3.0 in c:\\anaconda3\\lib\\site-packages (from agate-excel>=0.2.2->csvkit) (3.0.7)\n",
      "Requirement already satisfied: xlrd>=0.9.4 in c:\\anaconda3\\lib\\site-packages (from agate-excel>=0.2.2->csvkit) (2.0.1)\n",
      "Requirement already satisfied: sqlalchemy>=1.0.8 in c:\\anaconda3\\lib\\site-packages (from agate-sql>=0.5.3->csvkit) (1.4.7)\n",
      "Requirement already satisfied: pytz>=2015.7 in c:\\anaconda3\\lib\\site-packages (from Babel>=2.0->agate>=1.6.1->csvkit) (2021.1)\n",
      "Requirement already satisfied: et-xmlfile in c:\\anaconda3\\lib\\site-packages (from openpyxl>=2.3.0->agate-excel>=0.2.2->csvkit) (1.0.1)\n",
      "Requirement already satisfied: text-unidecode>=1.3 in c:\\anaconda3\\lib\\site-packages (from python-slugify>=1.2.1->agate>=1.6.1->csvkit) (1.3)\n",
      "Requirement already satisfied: greenlet!=0.4.17 in c:\\anaconda3\\lib\\site-packages (from sqlalchemy>=1.0.8->agate-sql>=0.5.3->csvkit) (1.0.0)\n"
     ]
    }
   ],
   "source": [
    "# Code Cell 3\n",
    "#Installing csvkit\n",
    "!pip install csvkit"
   ]
  },
  {
   "cell_type": "markdown",
   "metadata": {},
   "source": [
    "###### c) Import the data into the database.\n",
    "Use csvsql to create a new table in the database InternetSpeed and retrieve the data contained in the csv file. First, make sure that there is not another database with the same name. If one exists, remove it:\n",
    "    \n",
    "    $test tmp/InternetSpeed.db && rm InternetSpeed.db\n",
    "\n",
    "Use csvkit to populate the database from the csv file:\n",
    "\n",
    "    $csvsql --db sqlite:///InternetSpeed.db --insert ./Data/LA_wifi_speed_UK.csv\n",
    "    \n",
    "You can do this through the terminal or remain in the notebook environment."
   ]
  },
  {
   "cell_type": "code",
   "execution_count": 4,
   "metadata": {},
   "outputs": [
    {
     "name": "stdout",
     "output_type": "stream",
     "text": [
      "True\n"
     ]
    },
    {
     "name": "stderr",
     "output_type": "stream",
     "text": [
      "C:\\anaconda3\\lib\\site-packages\\win32\\lib\\pywintypes.py:2: DeprecationWarning: the imp module is deprecated in favour of importlib; see the module's documentation for alternative uses\n"
     ]
    }
   ],
   "source": [
    "# Code Cell 4\n",
    "# Removing database if already existing\n",
    "!powershell -command \"Test-Path InternetSpeed.db\" && powershell -command \"Remove-Item InternetSpeed.db\"\n",
    "# Importing the LA_wifi_speed_UK.csv file into a sql database file InternetSpeed.db\n",
    "!csvsql --db sqlite:///InternetSpeed.db --insert ./Data/LA_wifi_speed_UK.csv\n",
    "# This will take a while "
   ]
  },
  {
   "cell_type": "markdown",
   "metadata": {},
   "source": [
    "## Part 2: Connect to the Database "
   ]
  },
  {
   "cell_type": "markdown",
   "metadata": {},
   "source": [
    "Python is used to connect to the database and run some queries to see what this data looks like.\n",
    "\n",
    "Import the libraries:\n"
   ]
  },
  {
   "cell_type": "code",
   "execution_count": 5,
   "metadata": {},
   "outputs": [],
   "source": [
    "# Code Cell 5\n",
    "# this is the library to talk to the database\n",
    "import sqlite3\n",
    "import pandas as pd\n",
    "# this is a library for data visualization\n",
    "from matplotlib import pyplot as plt\n",
    "# this is to say that we want our plots to be part of this page, and not opened in a new window\n",
    "%matplotlib inline"
   ]
  },
  {
   "cell_type": "markdown",
   "metadata": {},
   "source": [
    "You can find sqlite3 for Python documentation here: https://docs.python.org/2/library/sqlite3.html\n",
    "\n",
    "#### Step 1: Connect and execute a query.\n",
    "An open connection and a cursor is needed to communicate with the database. The cursor is a control structure that will enable us to navigate through tables and records. \n",
    "\n",
    "To open a connection, call the method `connect` of the library `sqlite3`. This function takes a string containing the name of the database for which the connection is needed.\n",
    "\n",
    "In this case, the command will be:\n",
    "\n",
    "    sqlite3.connect('InternetSpeed.db')\n",
    "\n",
    "This function returns the connection that will be stored as a variable, called `conn`. To create the cursor, call the method `cursor()` in the following way:\n",
    "\n",
    "    conn.cursor()\n",
    "\n",
    "Save it in a variable called `cur`.\n",
    " \n",
    "\n",
    "###### a) Connect to the database you just created, and then create a cursor pointing to the database.\n"
   ]
  },
  {
   "cell_type": "code",
   "execution_count": 6,
   "metadata": {},
   "outputs": [],
   "source": [
    "# Code Cell 6\n",
    "# what is the name of the database you want to connect to?\n",
    "conn = sqlite3.connect('InternetSpeed.db')\n",
    "cur = conn.cursor()"
   ]
  },
  {
   "cell_type": "markdown",
   "metadata": {},
   "source": [
    "In order to execute a query on the database, we will need to use the cursor we just created and the method `execute()`. This method takes as input a string containing the query we are interested in. We can store the string in a variable, let's call it `query`. Call the method in this way:\n",
    "\n",
    "    cur.execute(query)\n",
    "\n",
    "The table we want to query is not very good for visualization, so we are going to SELECT only the column DateTime, that contains date and time of the measurements. We will LIMIT the number of rows retrieved by the query to 10.\n",
    "\n",
    "###### b) Execute a query. \n",
    "Select the first 10 rows from the DateTime column. \n",
    "\n",
    "Hint: if you want to check the name of the tables in your database, go back to the interactive command line and use this code:\n",
    "    \n",
    "    .tables"
   ]
  },
  {
   "cell_type": "code",
   "execution_count": 7,
   "metadata": {},
   "outputs": [
    {
     "data": {
      "text/plain": [
       "<sqlite3.Cursor at 0x1b4c749ddc0>"
      ]
     },
     "execution_count": 7,
     "metadata": {},
     "output_type": "execute_result"
    }
   ],
   "source": [
    "# Code Cell 7\n",
    "# complete the query with the field you want to select, the table you want to select the field from,\n",
    "# and the field you want your results to be ordered by\n",
    "query = 'SELECT DateTime FROM LA_wifi_speed_UK ORDER BY DateTime LIMIT 10;'\n",
    "# Execute the query\n",
    "cur.execute(query)\n"
   ]
  },
  {
   "cell_type": "markdown",
   "metadata": {},
   "source": [
    "The query result is stored in `cur`. We need to iterate over it in order to visualize the result."
   ]
  },
  {
   "cell_type": "code",
   "execution_count": 8,
   "metadata": {},
   "outputs": [
    {
     "name": "stdout",
     "output_type": "stream",
     "text": [
      "('2016-11-23 00:00:00.000000',)\n",
      "('2016-11-23 00:30:00.000000',)\n",
      "('2016-11-23 01:00:00.000000',)\n",
      "('2016-11-23 01:30:00.000000',)\n",
      "('2016-11-23 02:00:00.000000',)\n",
      "('2016-11-23 02:30:00.000000',)\n",
      "('2016-11-23 03:00:00.000000',)\n",
      "('2016-11-23 03:30:00.000000',)\n",
      "('2016-11-23 04:00:00.000000',)\n",
      "('2016-11-23 04:30:00.000000',)\n"
     ]
    }
   ],
   "source": [
    "# Code Cell 8\n",
    "for row in cur:\n",
    "    print(row) "
   ]
  },
  {
   "cell_type": "markdown",
   "metadata": {},
   "source": [
    "**Note**: We need to sort the table containing the measurement according to the column DateTime. This is because SQL does not have an intrinsic ordering of the rows, and we are dealing with a time series, that without the correct ordering, don't make any sense. Selecting a random sample of rows would remove the temporal component:\n"
   ]
  },
  {
   "cell_type": "code",
   "execution_count": 9,
   "metadata": {},
   "outputs": [
    {
     "name": "stdout",
     "output_type": "stream",
     "text": [
      "('2016-12-13 10:00:00.000000',)\n",
      "('2016-11-26 17:00:00.000000',)\n",
      "('2016-12-06 00:30:00.000000',)\n",
      "('2016-12-03 09:30:00.000000',)\n",
      "('2016-11-27 03:00:00.000000',)\n",
      "('2016-12-13 11:00:00.000000',)\n",
      "('2016-12-06 22:00:00.000000',)\n",
      "('2016-11-26 16:30:00.000000',)\n",
      "('2016-12-03 03:00:00.000000',)\n",
      "('2016-12-10 08:30:00.000000',)\n"
     ]
    }
   ],
   "source": [
    "# Code Cell 9\n",
    "query = 'SELECT DateTime FROM LA_wifi_speed_UK ORDER BY RANDOM() LIMIT 10'\n",
    "cur.execute(query)\n",
    "\n",
    "for row in cur:\n",
    "    print(row) "
   ]
  },
  {
   "cell_type": "markdown",
   "metadata": {},
   "source": [
    "#### Step 2: Focus on a portion of the data.\n",
    "\n",
    "What are the names of the 900+ columns? It is possible to automatically retrieve them and store them in a list. It will come in handy for different things later.\n",
    "\n",
    "First of all, we need to execute a query over all the columns. In this case, it is not important the number of rows the query returns, so we will limit it to 1. "
   ]
  },
  {
   "cell_type": "code",
   "execution_count": 10,
   "metadata": {},
   "outputs": [
    {
     "data": {
      "text/plain": [
       "<sqlite3.Cursor at 0x1b4c749ddc0>"
      ]
     },
     "execution_count": 10,
     "metadata": {},
     "output_type": "execute_result"
    }
   ],
   "source": [
    "# Code Cell 10\n",
    "# we need to have a cursor pointing to a table for this operation\n",
    "query = 'SELECT * FROM LA_wifi_speed_UK LIMIT 1'\n",
    "cur.execute(query)"
   ]
  },
  {
   "cell_type": "markdown",
   "metadata": {},
   "source": [
    "The name of the columns of the table are stored in the field `description` of the cursor."
   ]
  },
  {
   "cell_type": "code",
   "execution_count": 11,
   "metadata": {},
   "outputs": [
    {
     "data": {
      "text/plain": [
       "(('E07000223_p', None, None, None, None, None, None),\n",
       " ('E07000026_p', None, None, None, None, None, None),\n",
       " ('E07000032_p', None, None, None, None, None, None),\n",
       " ('E07000224_p', None, None, None, None, None, None),\n",
       " ('E07000170_p', None, None, None, None, None, None),\n",
       " ('E07000105_p', None, None, None, None, None, None),\n",
       " ('E07000004_p', None, None, None, None, None, None),\n",
       " ('E07000200_p', None, None, None, None, None, None),\n",
       " ('E09000002_p', None, None, None, None, None, None),\n",
       " ('E09000003_p', None, None, None, None, None, None))"
      ]
     },
     "execution_count": 11,
     "metadata": {},
     "output_type": "execute_result"
    }
   ],
   "source": [
    "# Code Cell 11\n",
    "#visualizing the first 10 rows of the field description\n",
    "cur.description[:10]"
   ]
  },
  {
   "cell_type": "markdown",
   "metadata": {},
   "source": [
    "We can loop over the members of this field and put the names of the columns in a list (a handy data structure in this case).\n",
    "In Python, it is possible to generate lists as the output of a for loop. This concept is called list comprehension and it is just another name for a longer for loop. Each element of the output list is the operation you would do inside the for loop, while iterating over a certain set.  "
   ]
  },
  {
   "cell_type": "code",
   "execution_count": 12,
   "metadata": {},
   "outputs": [],
   "source": [
    "# Code Cell 12\n",
    "# loop over the header and store them in a list\n",
    "columns = [member[0] for member in cur.description]\n",
    "\n",
    "# ignore index column\n",
    "columns = columns[1:]"
   ]
  },
  {
   "cell_type": "markdown",
   "metadata": {},
   "source": [
    "The columns contain the measurements of the three speeds for each geographical area. They are in this form: \n",
    "\n",
    "`<area name>_<suffix>`, \n",
    "\n",
    "Suffix is `p` for ping, `u` for upload and `d` for download. \n",
    "\n",
    "We need to get rid of the suffixes, since we are interested in the names of the area, and at the moment each name is repeated three times. We will use the name of the areas to visualize the various measurements and to generate a new table later in the lab.\n",
    "\n",
    "We can replace the final part of the string with an empty character. To do so, we can use the method `replace()` (see string documentation, https://docs.python.org/2/library/string.html).\n",
    "This method takes as input the part of the string to be replaced and the new piece of string to replace. For instance, to remove the characters `e` and `s` from the string `'chestnut'`, use this code:\n",
    "    \n",
    "    'chestnut'.replace('es', '')\n",
    "\n",
    "###### a) Get area names.\n",
    "Use list comprehension to loop over the list containing the names of the columns of the table and remove the suffixes \"_p\", \"_d\", and \"_u\"."
   ]
  },
  {
   "cell_type": "code",
   "execution_count": 13,
   "metadata": {},
   "outputs": [],
   "source": [
    "# Code Cell 13\n",
    "# remove suffix '_p'\n",
    "columns = [c.replace('_p', '') for c in columns]\n",
    "# remove suffix '_d'\n",
    "columns = [c.replace('_d', '') for c in columns]\n",
    "# remove suffix '_u'\n",
    "columns = [c.replace('_u', '') for c in columns]\n",
    "\n",
    "\n",
    "    \n",
    "# this operation is to remove duplicates\n",
    "columns = list(set(columns))"
   ]
  },
  {
   "cell_type": "code",
   "execution_count": 14,
   "metadata": {},
   "outputs": [
    {
     "data": {
      "text/plain": [
       "['E07000211',\n",
       " 'DateTime',\n",
       " 'E06000039',\n",
       " 'E07000129',\n",
       " 'E08000024',\n",
       " 'E06000017',\n",
       " 'E07000235',\n",
       " 'E07000125',\n",
       " 'E06000023',\n",
       " 'E07000154']"
      ]
     },
     "execution_count": 14,
     "metadata": {},
     "output_type": "execute_result"
    }
   ],
   "source": [
    "# Code Cell 14\n",
    "# visualize the first 10 areas\n",
    "columns[:10]"
   ]
  },
  {
   "cell_type": "markdown",
   "metadata": {},
   "source": [
    "The best way to understand the data in the database is to visualize a part of it. In particular, we want to select the three statistics for an area. First of all, let's pick the first area we have in the dataset:"
   ]
  },
  {
   "cell_type": "code",
   "execution_count": 15,
   "metadata": {},
   "outputs": [
    {
     "name": "stdout",
     "output_type": "stream",
     "text": [
      "E07000211\n"
     ]
    }
   ],
   "source": [
    "# Code Cell 15\n",
    "area = columns[0]\n",
    "print(area) "
   ]
  },
  {
   "cell_type": "markdown",
   "metadata": {},
   "source": [
    "Now we want to visualize the data relative to the area `E07000101`. We need to select the columns containing the three measurements for this area. To do so, we need to manipulate strings again. \n",
    "\n",
    "One way to format a string is:\n",
    "\n",
    "    'We are considering {} area and {} statistics'.format(1, 3)\n",
    "    \n",
    "    We are considering 1 area and 3 statistics\n",
    "\n",
    "We need to add the suffixes back in to get the correct column names. The first thing to do is to build a dictionary that associates the complete name of the measurement to the suffix. This is also going to be helpful to write a meaningful legend in the plot."
   ]
  },
  {
   "cell_type": "code",
   "execution_count": 16,
   "metadata": {},
   "outputs": [
    {
     "name": "stdout",
     "output_type": "stream",
     "text": [
      "dict_keys(['_p', '_d', '_u'])\n",
      "dict_values(['ping', 'download', 'upload'])\n"
     ]
    }
   ],
   "source": [
    "# Code Cell 16\n",
    "suffix = {'_p':'ping', '_d':'download', '_u':'upload'}\n",
    "# we have the suffixes as the keys of the dictionary\n",
    "print(suffix.keys())\n",
    "\n",
    "# we have the complete names as the values of the dictionary\n",
    "print(suffix.values())"
   ]
  },
  {
   "cell_type": "markdown",
   "metadata": {},
   "source": [
    "Now the process is to loop over the keys of the dictionary, write and execute the query to select the measurement relative to our area and, plot them using this code:\n",
    "\n",
    "    plt.plot(cur.fetchall(), label=suffix[s])\n",
    "    \n",
    "The method `fetchall()` retrieves all the rows of the query result. The field `label` will be used to produce the legend of the plot. We can also add a title to the plot, using the method `title()`.\n",
    "\n",
    "###### b) Write the query to select the relevant columns."
   ]
  },
  {
   "cell_type": "code",
   "execution_count": 17,
   "metadata": {},
   "outputs": [
    {
     "data": {
      "text/plain": [
       "Text(0.5, 1.0, 'E07000211')"
      ]
     },
     "execution_count": 17,
     "metadata": {},
     "output_type": "execute_result"
    },
    {
     "data": {
      "image/png": "[encoded data removed]",
      "text/plain": [
       "<Figure size 720x576 with 1 Axes>"
      ]
     },
     "metadata": {
      "needs_background": "light"
     },
     "output_type": "display_data"
    }
   ],
   "source": [
    "# Code Cell 17\n",
    "area = columns[0]\n",
    "plt.figure(figsize=(10, 8))\n",
    "\n",
    "# Plot each variable in suffix.keys() for each area\n",
    "for s in suffix.keys():\n",
    "    query = 'SELECT \"{}{}\" FROM LA_wifi_speed_UK ORDER BY DateTime'.format(area, s)\n",
    "    # Execute query\n",
    "    cur.execute(query)\n",
    "    # ...\n",
    "    plt.plot(cur.fetchall(), label=suffix[s])\n",
    "plt.legend()\n",
    "plt.title(area)"
   ]
  },
  {
   "cell_type": "markdown",
   "metadata": {},
   "source": [
    "## Part 3: Manipulate the data with Pandas\n",
    "\n",
    "The goal now is to calculate the average wifi speed for all the areas in the dataset. Pandas can help in storing and visualizing the data easily. \n",
    "\n",
    "#### Step 1: Convert all measurements to averages.\n",
    "For each Local Authority. we want to know what the average internet speed for ping, upload, and download was in the period of time over which our data was collected. Pandas dataframes are handy for this kind of operations.\n",
    "\n",
    "###### a) Create an empty dataframe with specific columns.\n",
    "\n",
    "     ['Area', 'Average_p', 'Average_d', 'Average_u']\n",
    "\n",
    "Note: the order of the new specific columns is aligned with the order of keys in the output of `suffix.keys()`, that is `['_p', '_d', '_u']`."
   ]
  },
  {
   "cell_type": "code",
   "execution_count": 18,
   "metadata": {},
   "outputs": [],
   "source": [
    "# Code Cell 18\n",
    "new_columns = ['Area', 'Average_p', 'Average_d', 'Average_u']\n",
    "df = pd.DataFrame(columns=new_columns)\n"
   ]
  },
  {
   "cell_type": "markdown",
   "metadata": {},
   "source": [
    "An interesting metric is the average speed of ping, upload, and download for every area. To compute it, we need to loop over the columns, and for each area, for each statistic, we want to compute the average. We will then insert it in the empty dataframe we have just created. \n",
    "\n",
    "To do so, we will create a temporary list and populate it with the three metrics for each area. This is going to be the row we are going to insert in the dataframe. \n",
    "\n",
    "To refresh the commands:\n",
    "\n",
    "* Loop over the list containing the name of the areas.\n",
    "* Loop over the three suffixes (keys of dictionary `suffix`).\n",
    "* Write the query to select the average of the metric for an area, using string formatters.\n",
    "* Execute the query and fetch the result (method `fetchone()`).\n",
    "* Append the average to the temporary list (method `append()`).\n",
    "* At the end of the internal loop, insert the temporary list in the dataframe (method `append()`, parameter `ignore_index=True`).\n",
    "\n",
    "###### b) Compute the averages.\n",
    "Write the SQL query that computes the average of a column and store it in a temporary list. The list will be the new row appended to the dataframe. This will take about 1 minute on the RaPi."
   ]
  },
  {
   "cell_type": "code",
   "execution_count": 19,
   "metadata": {},
   "outputs": [
    {
     "data": {
      "text/html": [
       "<div>\n",
       "<style scoped>\n",
       "    .dataframe tbody tr th:only-of-type {\n",
       "        vertical-align: middle;\n",
       "    }\n",
       "\n",
       "    .dataframe tbody tr th {\n",
       "        vertical-align: top;\n",
       "    }\n",
       "\n",
       "    .dataframe thead th {\n",
       "        text-align: right;\n",
       "    }\n",
       "</style>\n",
       "<table border=\"1\" class=\"dataframe\">\n",
       "  <thead>\n",
       "    <tr style=\"text-align: right;\">\n",
       "      <th></th>\n",
       "      <th>Area</th>\n",
       "      <th>Average_p</th>\n",
       "      <th>Average_d</th>\n",
       "      <th>Average_u</th>\n",
       "    </tr>\n",
       "  </thead>\n",
       "  <tbody>\n",
       "    <tr>\n",
       "      <th>0</th>\n",
       "      <td>E07000211</td>\n",
       "      <td>52.032575</td>\n",
       "      <td>21.164955</td>\n",
       "      <td>8.525117</td>\n",
       "    </tr>\n",
       "    <tr>\n",
       "      <th>1</th>\n",
       "      <td>DateTime</td>\n",
       "      <td>0.000000</td>\n",
       "      <td>0.000000</td>\n",
       "      <td>0.000000</td>\n",
       "    </tr>\n",
       "    <tr>\n",
       "      <th>2</th>\n",
       "      <td>E06000039</td>\n",
       "      <td>52.431695</td>\n",
       "      <td>21.251761</td>\n",
       "      <td>8.520328</td>\n",
       "    </tr>\n",
       "    <tr>\n",
       "      <th>3</th>\n",
       "      <td>E07000129</td>\n",
       "      <td>51.821073</td>\n",
       "      <td>20.814594</td>\n",
       "      <td>8.360668</td>\n",
       "    </tr>\n",
       "    <tr>\n",
       "      <th>4</th>\n",
       "      <td>E08000024</td>\n",
       "      <td>55.637342</td>\n",
       "      <td>22.680261</td>\n",
       "      <td>9.026876</td>\n",
       "    </tr>\n",
       "  </tbody>\n",
       "</table>\n",
       "</div>"
      ],
      "text/plain": [
       "        Area  Average_p  Average_d  Average_u\n",
       "0  E07000211  52.032575  21.164955   8.525117\n",
       "1   DateTime   0.000000   0.000000   0.000000\n",
       "2  E06000039  52.431695  21.251761   8.520328\n",
       "3  E07000129  51.821073  20.814594   8.360668\n",
       "4  E08000024  55.637342  22.680261   9.026876"
      ]
     },
     "execution_count": 19,
     "metadata": {},
     "output_type": "execute_result"
    }
   ],
   "source": [
    "# Code Cell 19\n",
    "# this will take a while...\n",
    "for i in range(len(columns)-1): #EDL : replace xrange with range\n",
    "    tmp_list = []\n",
    "    tmp_list.append(columns[i])\n",
    "    for s in suffix.keys():\n",
    "        query = 'SELECT AVG(\"{}{}\") FROM LA_wifi_speed_UK'.format(columns[i], s)\n",
    "\n",
    "        \n",
    "        cur.execute(query)\n",
    "        \n",
    "        mean = cur.fetchone()\n",
    "        tmp_list.append(mean[0])\n",
    "    #append the columns to the empty DataFrame\n",
    "    df = df.append(pd.Series(tmp_list, index=new_columns), ignore_index=True)\n",
    "# visualize the head of the dataframe here\n",
    "df.head()"
   ]
  },
  {
   "cell_type": "markdown",
   "metadata": {},
   "source": [
    "It is possible to visualize the averages for each area using `plot()`. This will show whether the average speed is the same throughout the different areas or not."
   ]
  },
  {
   "cell_type": "code",
   "execution_count": 20,
   "metadata": {},
   "outputs": [
    {
     "data": {
      "text/plain": [
       "<matplotlib.legend.Legend at 0x1b4c7cf70a0>"
      ]
     },
     "execution_count": 20,
     "metadata": {},
     "output_type": "execute_result"
    },
    {
     "data": {
      "image/png": "[encoded data removed]",
      "text/plain": [
       "<Figure size 1440x720 with 1 Axes>"
      ]
     },
     "metadata": {
      "needs_background": "light"
     },
     "output_type": "display_data"
    }
   ],
   "source": [
    "# Code Cell 20\n",
    "plt.figure(figsize=(20,10))\n",
    "plt.plot(df.index, df[['Average_d','Average_u','Average_p']], 'o')\n",
    "plt.legend(['Average Download', 'Average Upload', 'Average ping'])"
   ]
  },
  {
   "cell_type": "markdown",
   "metadata": {},
   "source": [
    "Now the average speeds are stored in a Pandas dataframe. It might be useful to save them to a table in our database, and Pandas offers a method (`to_sql()`) to do so. \n",
    "We will first check whether the table already exists (this might create problems). If it exists, we want to drop it, and then create it. Otherwise we will directly create it. \n",
    "\n",
    "The construct `try... except` will capture the exception raised in case the table does not exist, and proceed to the creation of the table (for help, see Section 8.3 of https://docs.python.org/2.7/tutorial/errors.html). \n",
    "\n",
    "###### c) Save the work.\n",
    "Save the new dataframe to a table in the InternetSpeed database. "
   ]
  },
  {
   "cell_type": "code",
   "execution_count": 21,
   "metadata": {},
   "outputs": [],
   "source": [
    "# Code Cell 21\n",
    "# Make sure to drop the table first if it already exists\n",
    "try:\n",
    "    cur.execute('DROP TABLE average_speed')\n",
    "except:\n",
    "    pass\n",
    "\n",
    "# what is the name of the table you want to save? To what connection?\n",
    "# Save the dataframe table into a SQL table\n",
    "df.to_sql('average_speed', conn)\n"
   ]
  },
  {
   "cell_type": "code",
   "execution_count": 22,
   "metadata": {},
   "outputs": [
    {
     "name": "stdout",
     "output_type": "stream",
     "text": [
      "(0, 'E07000211', 52.032575021699756, 21.164955120080407, 8.525117487534471)\n",
      "(1, 'DateTime', 0.0, 0.0, 0.0)\n"
     ]
    }
   ],
   "source": [
    "# Code Cell 22\n",
    "# just checking everything worked fine: select everything from the table we just created\n",
    "# and then print the first two rows of the result\n",
    "\n",
    "query_2 = 'SELECT * FROM average_speed'\n",
    "cur.execute(query_2)\n",
    "\n",
    "# print the first fetched record\n",
    "print(cur.fetchone())\n",
    "# print the next fetched record\n",
    "print(cur.fetchone())"
   ]
  },
  {
   "cell_type": "markdown",
   "metadata": {},
   "source": [
    "## Part 4: Join Tables\n",
    "\n",
    "To understand why and how the average Internet speed changes around the areas, we need more information about them. In particular, we are interested in how populated they are, to see if a crowded area has better or worse Internet service. \n",
    "\n",
    "#### Step 1: Get relevant information.\n",
    "This information can be found in this file: \n",
    "\n",
    "    ./Data/LA_population.csv\n",
    "    \n",
    "Here, LA stands for Local Authority, rather than Los Angeles. \n",
    "We want to join the information contained in this file with the average speed computed earlier.\n",
    "First, create a new table and store this data in the InternetSpeed database.\n",
    "\n",
    "###### a) Create the population table.\n",
    "Using csvsql, import the file LA_population.csv into the InternetSpeed database. Repeat the steps done to create the other tables in the database."
   ]
  },
  {
   "cell_type": "code",
   "execution_count": 23,
   "metadata": {},
   "outputs": [],
   "source": [
    "# Code Cell 23\n",
    "#first close the database file, otherwise the external csvsql command cannot use\n",
    "conn.close()"
   ]
  },
  {
   "cell_type": "code",
   "execution_count": 24,
   "metadata": {},
   "outputs": [
    {
     "name": "stderr",
     "output_type": "stream",
     "text": [
      "C:\\anaconda3\\lib\\site-packages\\win32\\lib\\pywintypes.py:2: DeprecationWarning: the imp module is deprecated in favour of importlib; see the module's documentation for alternative uses\n"
     ]
    }
   ],
   "source": [
    "# Code Cell 24\n",
    "# use the external csvsql command to add to the DB file data from the CSV file\n",
    "!csvsql --db sqlite:///InternetSpeed.db --insert ./Data/LA_population.csv\n",
    "\n"
   ]
  },
  {
   "cell_type": "code",
   "execution_count": 25,
   "metadata": {},
   "outputs": [],
   "source": [
    "# Code Cell 25\n",
    "#reopen the DB file\n",
    "conn = sqlite3.connect('InternetSpeed.db')\n",
    "\n",
    "\n",
    "cur = conn.cursor()"
   ]
  },
  {
   "cell_type": "markdown",
   "metadata": {},
   "source": [
    "###### b) Test that everything worked.\n",
    "To test that everything worked and to have an idea of what is inside this new table, select the first 10 rows and print them."
   ]
  },
  {
   "cell_type": "code",
   "execution_count": 26,
   "metadata": {},
   "outputs": [
    {
     "name": "stdout",
     "output_type": "stream",
     "text": [
      "('Aberdeen City', 'S12000033', 222793.0)\n",
      "('Aberdeenshire', 'S12000034', 252973.0)\n",
      "('Adur', 'E07000223', 61182.0)\n",
      "('Allerdale', 'E07000026', 96422.0)\n",
      "('Amber Valley', 'E07000032', 122309.0)\n",
      "('Angus', 'S12000041', 115978.0)\n",
      "('Antrim and Newtownabbey', 'N09000001', 138567.0)\n",
      "('Ards and North Down', 'N09000011', 156672.0)\n",
      "('Argyll and Bute', 'S12000035', 88166.0)\n",
      "('Armagh City, Banbridge and Craigavon', 'N09000002', 199693.0)\n"
     ]
    }
   ],
   "source": [
    "# Code Cell 26\n",
    "query = 'SELECT * FROM LA_population LIMIT 10'\n",
    "\n",
    "\n",
    "cur.execute(query)\n",
    "\n",
    "\n",
    "\n",
    "for row in cur:\n",
    "    # print the first fetched record\n",
    "    print(row)"
   ]
  },
  {
   "cell_type": "markdown",
   "metadata": {},
   "source": [
    "We can join the two tables in order to have all the information needed. The idea is that the two tables have a field in common, the area name. This is the key on which we want to join. It means that we want a new table that has a row for each area name that contains both the average speed information and the geographical information. The way SQL does this is comparing row by row, and merging together the rows with the same value for the key (i.e., the same area name).\n",
    "\n",
    "###### c) Execute the JOIN query and print the first 10 rows of the result. "
   ]
  },
  {
   "cell_type": "code",
   "execution_count": 27,
   "metadata": {},
   "outputs": [
    {
     "name": "stdout",
     "output_type": "stream",
     "text": [
      "(0, 'E07000211', 52.032575021699756, 21.164955120080407, 8.525117487534471, 'Reigate and Banstead', 'E07000211', 137835.0)\n",
      "(2, 'E06000039', 52.431695010853765, 21.251761070814247, 8.520327608707184, 'Slough', 'E06000039', 140205.0)\n",
      "(3, 'E07000129', 51.82107338933854, 20.814593791812456, 8.3606677727006, 'Blaby', 'E07000129', 93915.0)\n",
      "(4, 'E08000024', 55.63734165186476, 22.68026091645907, 9.026875624031291, 'Sunderland', 'E08000024', 275506.0)\n",
      "(5, 'E06000017', 50.99243580340266, 20.572656372260788, 8.153301424197002, 'Rutland', 'E06000017', 37369.0)\n",
      "(6, 'E07000235', 50.90066746295562, 20.642734120737746, 8.274659908303153, 'Malvern Hills', 'E07000235', 74631.0)\n",
      "(7, 'E07000125', 52.08084728385311, 20.44048393170487, 8.243290314570519, 'Rossendale', 'E07000125', 67982.0)\n",
      "(8, 'E06000023', 57.80555157761835, 24.231958117229166, 9.563191186798488, 'Bristol, City of', 'E06000023', 428234.0)\n",
      "(9, 'E07000154', 53.9655497790732, 22.083032319503104, 8.793759608890976, 'Northampton', 'E07000154', 212069.0)\n",
      "(10, 'E07000205', 52.481231620244095, 21.000073594672806, 8.458120828122151, 'Suffolk Coastal', 'E07000205', 124298.0)\n",
      "(11, 'E07000109', 51.52636748795023, 21.145699462569862, 8.393280129124895, 'Gravesham', 'E07000109', 101720.0)\n"
     ]
    }
   ],
   "source": [
    "# Code Cell 27\n",
    "query = 'SELECT * FROM average_speed JOIN LA_population ON LA_population.\"LA_code\"=average_speed.Area'\n",
    "\n",
    "cur.execute(query)\n",
    "k = 0\n",
    "for row in cur:\n",
    "    if k>10:\n",
    "        break\n",
    "    print(row)\n",
    "    \n",
    "\n",
    "    \n",
    "    k+=1"
   ]
  },
  {
   "cell_type": "markdown",
   "metadata": {
    "collapsed": true
   },
   "source": [
    "<font size='0.5'>&copy; 2017 Cisco and/or its affiliates. All rights reserved. This document is Cisco Public.<font>"
   ]
  }
 ],
 "metadata": {
  "anaconda-cloud": {},
  "kernelspec": {
   "display_name": "Python 3",
   "language": "python",
   "name": "python3"
  },
  "language_info": {
   "codemirror_mode": {
    "name": "ipython",
    "version": 3
   },
   "file_extension": ".py",
   "mimetype": "text/x-python",
   "name": "python",
   "nbconvert_exporter": "python",
   "pygments_lexer": "ipython3",
   "version": "3.8.8"
  }
 },
 "nbformat": 4,
 "nbformat_minor": 1
}
